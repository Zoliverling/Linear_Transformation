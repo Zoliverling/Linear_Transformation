{
 "cells": [
  {
   "cell_type": "code",
   "execution_count": 3,
   "metadata": {},
   "outputs": [],
   "source": [
    "# %pip install numpy\n",
    "# %pip install pandas\n",
    "# %pip install torch\n",
    "# %pip install scikit-learn"
   ]
  },
  {
   "cell_type": "code",
   "execution_count": 4,
   "metadata": {},
   "outputs": [],
   "source": [
    "import numpy as np\n",
    "import pandas as pd\n",
    "import torch\n",
    "import torch.nn as nn\n",
    "import torch.optim as optim\n",
    "from torch.utils.data import DataLoader, Dataset\n",
    "from sklearn.preprocessing import MinMaxScaler\n",
    "from sklearn.metrics import mean_squared_error\n",
    "import torch.nn.functional as F\n",
    "\n",
    "from Fourier_Transformer import LinearTransformer, create_inout_sequences\n",
    "from LSTM import LSTMModel, train_model\n"
   ]
  },
  {
   "cell_type": "markdown",
   "metadata": {},
   "source": [
    "### Data Preparation"
   ]
  },
  {
   "cell_type": "code",
   "execution_count": 7,
   "metadata": {},
   "outputs": [],
   "source": [
    "df = pd.read_csv('/Users/oli/Documents/GitHub/Linear_Trans/stock_data/TSLA.csv')\n",
    "\n",
    "df['log_return'] = np.log(df['Close'] / df['Close'].shift(1))\n",
    "df.dropna(inplace=True)  # Remove NaNs\n",
    "scaler = MinMaxScaler(feature_range=(-1, 1))\n",
    "df['log_return'] = scaler.fit_transform(df['log_return'].values.reshape(-1,1))\n",
    "data = torch.FloatTensor(df['log_return'].values).view(-1) # Convert the DataFrame to a PyTorch Tensor\n",
    "\n",
    "seq_length = 20  # Based on how many days you want to use to predict the next day\n",
    "inout_seq = create_inout_sequences(data, seq_length) # Create sequences\n",
    "\n",
    "\n",
    "# Split data into train and test sets\n",
    "train_size = int(len(inout_seq) * 0.80)\n",
    "train_set = inout_seq[:train_size]\n",
    "test_set = inout_seq[train_size:]\n",
    "# Prepare DataLoader\n",
    "train_loader = DataLoader(train_set, batch_size=64, shuffle=True)\n",
    "test_loader = DataLoader(test_set, batch_size=64, shuffle=False)"
   ]
  },
  {
   "cell_type": "markdown",
   "metadata": {},
   "source": [
    "### Training and Test Process"
   ]
  },
  {
   "cell_type": "markdown",
   "metadata": {},
   "source": [
    "Initilize the model with 2 layers, 64 dimensions, "
   ]
  },
  {
   "cell_type": "code",
   "execution_count": 8,
   "metadata": {},
   "outputs": [],
   "source": [
    "# Instantiate the model, loss function, and optimizer\n",
    "model = LinearTransformer(feature_size=1, num_layers=2, d_model=64, d_ff = 2048, num_heads=8)\n",
    "criterion = nn.MSELoss()\n",
    "optimizer = optim.Adam(model.parameters(), lr=0.001)"
   ]
  },
  {
   "cell_type": "code",
   "execution_count": 9,
   "metadata": {},
   "outputs": [
    {
     "name": "stderr",
     "output_type": "stream",
     "text": [
      "/Users/oli/anaconda3/lib/python3.11/site-packages/torch/nn/modules/loss.py:535: UserWarning: Using a target size (torch.Size([64])) that is different to the input size (torch.Size([64, 1])). This will likely lead to incorrect results due to broadcasting. Please ensure they have the same size.\n",
      "  return F.mse_loss(input, target, reduction=self.reduction)\n",
      "/Users/oli/anaconda3/lib/python3.11/site-packages/torch/nn/modules/loss.py:535: UserWarning: Using a target size (torch.Size([55])) that is different to the input size (torch.Size([55, 1])). This will likely lead to incorrect results due to broadcasting. Please ensure they have the same size.\n",
      "  return F.mse_loss(input, target, reduction=self.reduction)\n",
      "/Users/oli/anaconda3/lib/python3.11/site-packages/torch/nn/modules/loss.py:535: UserWarning: Using a target size (torch.Size([46])) that is different to the input size (torch.Size([46, 1])). This will likely lead to incorrect results due to broadcasting. Please ensure they have the same size.\n",
      "  return F.mse_loss(input, target, reduction=self.reduction)\n"
     ]
    },
    {
     "name": "stdout",
     "output_type": "stream",
     "text": [
      "Epoch 1/50 - Training Loss: 2.2097, Test Loss: 0.2753\n",
      "Epoch 2/50 - Training Loss: 0.2523, Test Loss: 0.5225\n",
      "Epoch 3/50 - Training Loss: 0.4271, Test Loss: 0.1671\n",
      "Epoch 4/50 - Training Loss: 0.0993, Test Loss: 0.1298\n",
      "Epoch 5/50 - Training Loss: 0.1289, Test Loss: 0.2382\n",
      "Epoch 6/50 - Training Loss: 0.1631, Test Loss: 0.1626\n",
      "Epoch 7/50 - Training Loss: 0.0948, Test Loss: 0.0914\n",
      "Epoch 8/50 - Training Loss: 0.0708, Test Loss: 0.0868\n",
      "Epoch 9/50 - Training Loss: 0.0885, Test Loss: 0.0955\n",
      "Epoch 10/50 - Training Loss: 0.0894, Test Loss: 0.0889\n",
      "Epoch 11/50 - Training Loss: 0.0779, Test Loss: 0.0839\n",
      "Epoch 12/50 - Training Loss: 0.0695, Test Loss: 0.0908\n",
      "Epoch 13/50 - Training Loss: 0.0706, Test Loss: 0.1015\n",
      "Epoch 14/50 - Training Loss: 0.0761, Test Loss: 0.1028\n",
      "Epoch 15/50 - Training Loss: 0.0743, Test Loss: 0.0930\n",
      "Epoch 16/50 - Training Loss: 0.0700, Test Loss: 0.0865\n",
      "Epoch 17/50 - Training Loss: 0.0676, Test Loss: 0.0843\n",
      "Epoch 18/50 - Training Loss: 0.0703, Test Loss: 0.0839\n",
      "Epoch 19/50 - Training Loss: 0.0687, Test Loss: 0.0845\n",
      "Epoch 20/50 - Training Loss: 0.0693, Test Loss: 0.0864\n",
      "Epoch 21/50 - Training Loss: 0.0665, Test Loss: 0.0888\n",
      "Epoch 22/50 - Training Loss: 0.0687, Test Loss: 0.0900\n",
      "Epoch 23/50 - Training Loss: 0.0693, Test Loss: 0.0888\n",
      "Epoch 24/50 - Training Loss: 0.0671, Test Loss: 0.0872\n",
      "Epoch 25/50 - Training Loss: 0.0683, Test Loss: 0.0873\n",
      "Epoch 26/50 - Training Loss: 0.0682, Test Loss: 0.0870\n",
      "Epoch 27/50 - Training Loss: 0.0679, Test Loss: 0.0866\n",
      "Epoch 28/50 - Training Loss: 0.0682, Test Loss: 0.0861\n",
      "Epoch 29/50 - Training Loss: 0.0685, Test Loss: 0.0868\n",
      "Epoch 30/50 - Training Loss: 0.0689, Test Loss: 0.0874\n",
      "Epoch 31/50 - Training Loss: 0.0673, Test Loss: 0.0868\n",
      "Epoch 32/50 - Training Loss: 0.0679, Test Loss: 0.0874\n",
      "Epoch 33/50 - Training Loss: 0.0699, Test Loss: 0.0886\n",
      "Epoch 34/50 - Training Loss: 0.0683, Test Loss: 0.0888\n",
      "Epoch 35/50 - Training Loss: 0.0688, Test Loss: 0.0871\n",
      "Epoch 36/50 - Training Loss: 0.0678, Test Loss: 0.0863\n",
      "Epoch 37/50 - Training Loss: 0.0672, Test Loss: 0.0864\n",
      "Epoch 38/50 - Training Loss: 0.0688, Test Loss: 0.0857\n",
      "Epoch 39/50 - Training Loss: 0.0677, Test Loss: 0.0866\n",
      "Epoch 40/50 - Training Loss: 0.0692, Test Loss: 0.0880\n",
      "Epoch 41/50 - Training Loss: 0.0682, Test Loss: 0.0879\n",
      "Epoch 42/50 - Training Loss: 0.0686, Test Loss: 0.0868\n",
      "Epoch 43/50 - Training Loss: 0.0683, Test Loss: 0.0867\n",
      "Epoch 44/50 - Training Loss: 0.0674, Test Loss: 0.0868\n",
      "Epoch 45/50 - Training Loss: 0.0680, Test Loss: 0.0868\n",
      "Epoch 46/50 - Training Loss: 0.0683, Test Loss: 0.0873\n",
      "Epoch 47/50 - Training Loss: 0.0674, Test Loss: 0.0874\n",
      "Epoch 48/50 - Training Loss: 0.0675, Test Loss: 0.0869\n",
      "Epoch 49/50 - Training Loss: 0.0674, Test Loss: 0.0867\n",
      "Epoch 50/50 - Training Loss: 0.0691, Test Loss: 0.0868\n",
      "Overall Average Training Loss: 0.1277\n",
      "Overall Average Test Loss: 0.1075\n"
     ]
    }
   ],
   "source": [
    "train_losses = []\n",
    "test_losses = []\n",
    "num_epochs = 50 \n",
    "\n",
    "for epoch in range(num_epochs):\n",
    "    model.train()\n",
    "    epoch_train_loss = []\n",
    "    for seq, labels in train_loader:\n",
    "        optimizer.zero_grad()\n",
    "        y_pred = model(seq.unsqueeze(-1))  # Adjust dimensions if necessary\n",
    "        labels = labels.view(-1)  # Ensure label dimensions match output\n",
    "        loss = criterion(y_pred[:, -1], labels)  # Assuming using last output for prediction\n",
    "        loss.backward()\n",
    "        optimizer.step()\n",
    "        epoch_train_loss.append(loss.item())\n",
    "    \n",
    "    # Calculate and store the average training loss for this epoch\n",
    "    train_losses.append(np.mean(epoch_train_loss))\n",
    "\n",
    "    # Validation or Testing phase\n",
    "    model.eval()\n",
    "    epoch_test_loss = []\n",
    "    with torch.no_grad():\n",
    "        for seq, labels in test_loader:\n",
    "            y_pred = model(seq.unsqueeze(-1))\n",
    "            labels = labels.view(-1)\n",
    "            loss = criterion(y_pred[:, -1], labels)\n",
    "            epoch_test_loss.append(loss.item())\n",
    "    \n",
    "    # Calculate and store the average test loss for this epoch\n",
    "    test_losses.append(np.mean(epoch_test_loss))\n",
    "    \n",
    "    # Optional: print out loss information to monitor progress\n",
    "    print(f'Epoch {epoch+1}/{num_epochs} - Training Loss: {train_losses[-1]:.4f}, Test Loss: {test_losses[-1]:.4f}')\n",
    "\n",
    "overall_avg_train_loss = np.mean(train_losses)\n",
    "overall_avg_test_loss = np.mean(test_losses)\n",
    "\n",
    "print(f'Overall Average Training Loss: {overall_avg_train_loss:.4f}')\n",
    "print(f'Overall Average Test Loss: {overall_avg_test_loss:.4f}')\n",
    "\n",
    "# Assuming 'model' is your model instance and it has been trained\n",
    "torch.save(model.state_dict(), 'transformer_fourier.pth')\n",
    "\n"
   ]
  },
  {
   "cell_type": "markdown",
   "metadata": {},
   "source": [
    "### LSTM"
   ]
  },
  {
   "cell_type": "code",
   "execution_count": 15,
   "metadata": {},
   "outputs": [],
   "source": [
    "class TimeSeriesDataset(Dataset):\n",
    "    def __init__(self, sequences):\n",
    "        self.sequences = sequences\n",
    "\n",
    "    def __len__(self):\n",
    "        return len(self.sequences)\n",
    "\n",
    "    def __getitem__(self, index):\n",
    "        sequence, label = self.sequences[index]\n",
    "        # Convert numpy arrays to torch tensors and ensure they are of type float32\n",
    "        sequence_tensor = torch.tensor(sequence, dtype=torch.float32)\n",
    "        label_tensor = torch.tensor(label, dtype=torch.float32)\n",
    "        return sequence_tensor, label_tensor"
   ]
  },
  {
   "cell_type": "code",
   "execution_count": 17,
   "metadata": {},
   "outputs": [],
   "source": [
    "# Load your dataset\n",
    "data = pd.read_csv('/Users/oli/Documents/GitHub/Linear_Trans/stock_data/TSLA.csv')\n",
    "\n",
    "# Normalize data \n",
    "scaler = MinMaxScaler(feature_range=(-1, 1))\n",
    "data_normalized = scaler.fit_transform(data['Close'].values.reshape(-1, 1))\n",
    "\n",
    "# Define window size\n",
    "window_size = 10\n",
    "\n",
    "# Create sequences\n",
    "inout_seq = create_inout_sequences(data_normalized, window_size)\n",
    "\n",
    "# Split data into train and test\n",
    "split_ratio = 0.8\n",
    "split_index = int(len(inout_seq) * split_ratio)\n",
    "train_seq = inout_seq[:split_index]\n",
    "test_seq = inout_seq[split_index:]\n",
    "\n",
    "\n",
    "train_dataset = TimeSeriesDataset(train_seq)\n",
    "test_dataset = TimeSeriesDataset(test_seq)\n",
    "\n",
    "train_data = DataLoader(train_dataset, batch_size=64, shuffle=True)\n",
    "test_data = DataLoader(test_dataset, batch_size=64, shuffle=False)\n"
   ]
  },
  {
   "cell_type": "code",
   "execution_count": 26,
   "metadata": {},
   "outputs": [],
   "source": [
    "def evaluate_model(model, test_loader):\n",
    "    device = next(model.parameters()).device\n",
    "    model.eval()\n",
    "    total_loss = []\n",
    "    criterion = nn.MSELoss()\n",
    "    predictions = []\n",
    "    labels = []\n",
    "\n",
    "    with torch.no_grad():\n",
    "        for data, target in test_loader:\n",
    "            # Ensure data and target tensors are moved to the same device as the model\n",
    "            data, target = data.to(device), target.to(device)\n",
    "            output = model(data)\n",
    "            predictions.append(output.cpu().numpy())\n",
    "            labels.append(target.cpu().numpy())\n",
    "            loss = criterion(output, target)\n",
    "            total_loss.append(loss.item())\n",
    "\n",
    "    average_loss = np.mean(total_loss)\n",
    "    print(f'Average Loss: {average_loss}')"
   ]
  },
  {
   "cell_type": "code",
   "execution_count": 27,
   "metadata": {},
   "outputs": [
    {
     "name": "stdout",
     "output_type": "stream",
     "text": [
      "Epoch 1 Loss: 0.2932860851287842\n",
      "Epoch 2 Loss: 0.2234039008617401\n",
      "Epoch 3 Loss: 0.24421195685863495\n",
      "Epoch 4 Loss: 0.232172429561615\n",
      "Epoch 5 Loss: 0.22040504217147827\n",
      "Epoch 6 Loss: 0.27736034989356995\n",
      "Epoch 7 Loss: 0.21010683476924896\n",
      "Epoch 8 Loss: 0.1930704414844513\n",
      "Epoch 9 Loss: 0.2440151572227478\n",
      "Epoch 10 Loss: 0.20149116218090057\n",
      "Average Loss: 0.4993472099304199\n"
     ]
    },
    {
     "name": "stderr",
     "output_type": "stream",
     "text": [
      "/Users/oli/anaconda3/lib/python3.11/site-packages/torch/nn/modules/loss.py:535: UserWarning: Using a target size (torch.Size([64, 1, 1])) that is different to the input size (torch.Size([64, 1])). This will likely lead to incorrect results due to broadcasting. Please ensure they have the same size.\n",
      "  return F.mse_loss(input, target, reduction=self.reduction)\n",
      "/Users/oli/anaconda3/lib/python3.11/site-packages/torch/nn/modules/loss.py:535: UserWarning: Using a target size (torch.Size([48, 1, 1])) that is different to the input size (torch.Size([48, 1])). This will likely lead to incorrect results due to broadcasting. Please ensure they have the same size.\n",
      "  return F.mse_loss(input, target, reduction=self.reduction)\n"
     ]
    }
   ],
   "source": [
    "lstm_model = LSTMModel(input_dim=1, hidden_dim=50, num_layers=1, output_dim=1)\n",
    "lstm_optimizer = torch.optim.Adam(lstm_model.parameters(), lr=0.001)\n",
    "train_model(lstm_model, train_data, nn.MSELoss(), lstm_optimizer, num_epochs=10)\n",
    "evaluate_model(lstm_model, test_data)"
   ]
  }
 ],
 "metadata": {
  "kernelspec": {
   "display_name": "base",
   "language": "python",
   "name": "python3"
  },
  "language_info": {
   "codemirror_mode": {
    "name": "ipython",
    "version": 3
   },
   "file_extension": ".py",
   "mimetype": "text/x-python",
   "name": "python",
   "nbconvert_exporter": "python",
   "pygments_lexer": "ipython3",
   "version": "3.11.4"
  }
 },
 "nbformat": 4,
 "nbformat_minor": 2
}
