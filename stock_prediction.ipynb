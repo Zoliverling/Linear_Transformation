{
 "cells": [
  {
   "cell_type": "code",
   "execution_count": null,
   "metadata": {},
   "outputs": [],
   "source": [
    "%pip install --upgrade gradio"
   ]
  },
  {
   "cell_type": "code",
   "execution_count": 20,
   "metadata": {},
   "outputs": [],
   "source": [
    "import gradio as gr\n",
    "import pandas as pd\n",
    "import numpy as np\n",
    "import torch\n",
    "from sklearn.preprocessing import MinMaxScaler\n",
    "from torch.utils.data import DataLoader\n",
    "from Fourier_Transformer import LinearTransformer, create_inout_sequences"
   ]
  },
  {
   "cell_type": "code",
   "execution_count": null,
   "metadata": {},
   "outputs": [],
   "source": [
    "model = LinearTransformer(feature_size=1, num_layers=2, d_model=64, num_heads=8, d_ff=2048, dropout=0.1)\n",
    "model.load_state_dict(torch.load('transformer_fourier.pth'))\n",
    "model.eval()"
   ]
  },
  {
   "cell_type": "code",
   "execution_count": 25,
   "metadata": {},
   "outputs": [],
   "source": [
    "def predict_price(file_obj):\n",
    "    # Read the CSV file\n",
    "    df = pd.read_csv(file_obj)\n",
    "    \n",
    "    # Processing the data similar to your provided code\n",
    "    df['log_return'] = np.log(df['Close'] / df['Close'].shift(1))\n",
    "    df.dropna(inplace=True)  # Remove NaNs\n",
    "    \n",
    "    # Initialize scaler and scale the log returns\n",
    "    scaler = MinMaxScaler(feature_range=(-1, 1))\n",
    "    df['log_return'] = scaler.fit_transform(df['log_return'].values.reshape(-1, 1))\n",
    "    new_input_data = df['log_return']\n",
    "\n",
    "    # Convert to Tensor\n",
    "    new_input_tensor = torch.FloatTensor(new_input_data.to_numpy()).view(-1)\n",
    "    \n",
    "    # Create sequences\n",
    "    seq_length = 10  # Example sequence length, adjust based on your training\n",
    "    new_sequences = create_inout_sequences(new_input_tensor, seq_length)\n",
    "    new_sequences = [seq[0] for seq in new_sequences]  # Get only the sequences\n",
    "\n",
    "    # DataLoader for predictions\n",
    "    predict_loader = DataLoader(new_sequences, batch_size=64, shuffle=False)\n",
    "\n",
    "    # Prediction\n",
    "    model.eval()  # Ensure the model is in evaluation mode\n",
    "    predictions = []\n",
    "    with torch.no_grad():\n",
    "        for sequences in predict_loader:\n",
    "            sequences = sequences.view(sequences.shape[0], seq_length, 1)\n",
    "            output = model(sequences)\n",
    "            predicted_values = output[:, -1]\n",
    "            predictions.extend(predicted_values.numpy())\n",
    "\n",
    "    # Inverse transform predictions\n",
    "    predictions = scaler.inverse_transform(np.array(predictions).reshape(-1, 1))\n",
    "\n",
    "    # Calculate predicted price\n",
    "    last_known_price = df['Close'].iloc[-1]\n",
    "    predicted_price = last_known_price * np.exp(predictions[0][0])\n",
    "\n",
    "    return f\"Last Actual Price: {last_known_price}\", f\"Predicted Price: {predicted_price}\""
   ]
  },
  {
   "cell_type": "code",
   "execution_count": 26,
   "metadata": {},
   "outputs": [],
   "source": [
    "# Define the Gradio interface\n",
    "interface = gr.Interface(\n",
    "    fn=predict_price,\n",
    "    inputs=gr.File(label=\"Upload CSV File\"),\n",
    "    outputs=[gr.Textbox(label=\"Last Actual Price\"), gr.Textbox(label=\"Predicted Price\")],\n",
    "    title=\"Stock Price Prediction\",\n",
    "    description=\"Upload a CSV file with 'Close' prices to predict the next price in the sequence.\"\n",
    ")"
   ]
  },
  {
   "cell_type": "code",
   "execution_count": 27,
   "metadata": {},
   "outputs": [
    {
     "name": "stdout",
     "output_type": "stream",
     "text": [
      "Running on local URL:  http://127.0.0.1:7863\n",
      "\n",
      "To create a public link, set `share=True` in `launch()`.\n"
     ]
    },
    {
     "data": {
      "text/html": [
       "<div><iframe src=\"http://127.0.0.1:7863/\" width=\"100%\" height=\"500\" allow=\"autoplay; camera; microphone; clipboard-read; clipboard-write;\" frameborder=\"0\" allowfullscreen></iframe></div>"
      ],
      "text/plain": [
       "<IPython.core.display.HTML object>"
      ]
     },
     "metadata": {},
     "output_type": "display_data"
    },
    {
     "data": {
      "text/plain": []
     },
     "execution_count": 27,
     "metadata": {},
     "output_type": "execute_result"
    }
   ],
   "source": [
    "interface.launch()"
   ]
  }
 ],
 "metadata": {
  "kernelspec": {
   "display_name": "Python 3",
   "language": "python",
   "name": "python3"
  },
  "language_info": {
   "codemirror_mode": {
    "name": "ipython",
    "version": 3
   },
   "file_extension": ".py",
   "mimetype": "text/x-python",
   "name": "python",
   "nbconvert_exporter": "python",
   "pygments_lexer": "ipython3",
   "version": "3.11.1"
  }
 },
 "nbformat": 4,
 "nbformat_minor": 2
}
